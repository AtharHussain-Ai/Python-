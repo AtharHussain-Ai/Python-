{
 "cells": [
  {
   "cell_type": "code",
   "execution_count": 2,
   "id": "581ee6de",
   "metadata": {},
   "outputs": [
    {
     "data": {
      "text/plain": [
       "False"
      ]
     },
     "execution_count": 2,
     "metadata": {},
     "output_type": "execute_result"
    }
   ],
   "source": [
    "def palindrome(a):\n",
    "    forward = 0\n",
    "    backward = len(a)-1\n",
    "    while forward < backward:\n",
    "        if a[forward]!=a[backward]:\n",
    "            return False\n",
    "        forward+=1\n",
    "        backward-=1\n",
    "        return True\n",
    "i = input(\"Enter a Name\")\n",
    "palindrome(i)"
   ]
  },
  {
   "cell_type": "code",
   "execution_count": 4,
   "id": "8dfc9362",
   "metadata": {},
   "outputs": [
    {
     "name": "stdout",
     "output_type": "stream",
     "text": [
      "True\n"
     ]
    }
   ],
   "source": [
    "p = input('Enter a Name')\n",
    "b = p[::-1]\n",
    "if p==b:\n",
    "    print('True')\n",
    "else:\n",
    "    print(\"False\")"
   ]
  },
  {
   "cell_type": "code",
   "execution_count": 5,
   "id": "a07649a4",
   "metadata": {},
   "outputs": [
    {
     "name": "stdout",
     "output_type": "stream",
     "text": [
      "True\n"
     ]
    }
   ],
   "source": [
    "if p==p[::-1]:\n",
    "    print('True')\n",
    "else:\n",
    "    print('Flse')"
   ]
  },
  {
   "cell_type": "code",
   "execution_count": null,
   "id": "bfcb4aed",
   "metadata": {},
   "outputs": [],
   "source": []
  }
 ],
 "metadata": {
  "kernelspec": {
   "display_name": "base",
   "language": "python",
   "name": "python3"
  },
  "language_info": {
   "codemirror_mode": {
    "name": "ipython",
    "version": 3
   },
   "file_extension": ".py",
   "mimetype": "text/x-python",
   "name": "python",
   "nbconvert_exporter": "python",
   "pygments_lexer": "ipython3",
   "version": "3.13.5"
  }
 },
 "nbformat": 4,
 "nbformat_minor": 5
}
