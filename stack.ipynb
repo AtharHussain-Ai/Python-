{
 "cells": [
  {
   "cell_type": "code",
   "execution_count": 2,
   "id": "e459c7b0",
   "metadata": {},
   "outputs": [
    {
     "name": "stdout",
     "output_type": "stream",
     "text": [
      "\n",
      "Select the Operation:\n",
      "1. Push\n",
      "2. Pop\n",
      "3. Quit\n",
      "Current Stack: ['44']\n",
      "\n",
      "Select the Operation:\n",
      "1. Push\n",
      "2. Pop\n",
      "3. Quit\n",
      "Current Stack: ['44', '55']\n",
      "\n",
      "Select the Operation:\n",
      "1. Push\n",
      "2. Pop\n",
      "3. Quit\n",
      "Invalid choice. Please enter 1, 2, or 3.\n",
      "\n",
      "Select the Operation:\n",
      "1. Push\n",
      "2. Pop\n",
      "3. Quit\n",
      "Current Stack: ['44', '55', '66']\n",
      "\n",
      "Select the Operation:\n",
      "1. Push\n",
      "2. Pop\n",
      "3. Quit\n",
      "Exiting...\n"
     ]
    }
   ],
   "source": [
    "stack = []\n",
    "\n",
    "def push_operations():\n",
    "    element = input(\"Enter the element to push: \")\n",
    "    stack.append(element)\n",
    "    print(\"Current Stack:\", stack)\n",
    "\n",
    "def pop_operations():\n",
    "    if not stack:\n",
    "        print(\"Stack is empty\")\n",
    "    else:\n",
    "        e = stack.pop()\n",
    "        print(\"Removed Element:\", e)\n",
    "        print(\"Current Stack:\", stack)\n",
    "\n",
    "while True:\n",
    "    print(\"\\nSelect the Operation:\\n1. Push\\n2. Pop\\n3. Quit\")\n",
    "    try:\n",
    "        choice = int(input(\"Enter your choice: \"))\n",
    "        if choice == 1:\n",
    "            push_operations()\n",
    "        elif choice == 2:\n",
    "            pop_operations()\n",
    "        elif choice == 3:\n",
    "            print(\"Exiting...\")\n",
    "            break\n",
    "        else:\n",
    "            print(\"Invalid choice. Please enter 1, 2, or 3.\")\n",
    "    except ValueError:\n",
    "        print(\"Please enter a valid number.\")\n"
   ]
  },
  {
   "cell_type": "code",
   "execution_count": null,
   "id": "fa7ebeef",
   "metadata": {},
   "outputs": [],
   "source": []
  }
 ],
 "metadata": {
  "kernelspec": {
   "display_name": "base",
   "language": "python",
   "name": "python3"
  },
  "language_info": {
   "codemirror_mode": {
    "name": "ipython",
    "version": 3
   },
   "file_extension": ".py",
   "mimetype": "text/x-python",
   "name": "python",
   "nbconvert_exporter": "python",
   "pygments_lexer": "ipython3",
   "version": "3.13.5"
  }
 },
 "nbformat": 4,
 "nbformat_minor": 5
}
